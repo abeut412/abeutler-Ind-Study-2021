{
 "cells": [
  {
   "cell_type": "code",
   "execution_count": 2,
   "metadata": {},
   "outputs": [
    {
     "ename": "SyntaxError",
     "evalue": "invalid syntax (<ipython-input-2-14f746d8110b>, line 2)",
     "output_type": "error",
     "traceback": [
      "\u001b[0;36m  File \u001b[0;32m\"<ipython-input-2-14f746d8110b>\"\u001b[0;36m, line \u001b[0;32m2\u001b[0m\n\u001b[0;31m    conda install -c vpython vpython\u001b[0m\n\u001b[0m          ^\u001b[0m\n\u001b[0;31mSyntaxError\u001b[0m\u001b[0;31m:\u001b[0m invalid syntax\n"
     ]
    }
   ],
   "source": [
    "#installs vpython package\n",
    "conda install -c vpython vpython"
   ]
  },
  {
   "cell_type": "code",
   "execution_count": 1,
   "metadata": {},
   "outputs": [
    {
     "data": {
      "text/html": [
       "<div id=\"glowscript\" class=\"glowscript\"></div>"
      ],
      "text/plain": [
       "<IPython.core.display.HTML object>"
      ]
     },
     "metadata": {},
     "output_type": "display_data"
    },
    {
     "data": {
      "application/javascript": [
       "if (typeof Jupyter !== \"undefined\") { window.__context = { glowscript_container: $(\"#glowscript\").removeAttr(\"id\")};}else{ element.textContent = ' ';}"
      ],
      "text/plain": [
       "<IPython.core.display.Javascript object>"
      ]
     },
     "metadata": {},
     "output_type": "display_data"
    },
    {
     "data": {
      "application/javascript": [
       "if (typeof Jupyter !== \"undefined\") {require.undef(\"nbextensions/vpython_libraries/glow.min\");}else{element.textContent = ' ';}"
      ],
      "text/plain": [
       "<IPython.core.display.Javascript object>"
      ]
     },
     "metadata": {},
     "output_type": "display_data"
    },
    {
     "data": {
      "application/javascript": [
       "if (typeof Jupyter !== \"undefined\") {require.undef(\"nbextensions/vpython_libraries/glowcomm\");}else{element.textContent = ' ';}"
      ],
      "text/plain": [
       "<IPython.core.display.Javascript object>"
      ]
     },
     "metadata": {},
     "output_type": "display_data"
    },
    {
     "data": {
      "application/javascript": [
       "if (typeof Jupyter !== \"undefined\") {require.undef(\"nbextensions/vpython_libraries/jquery-ui.custom.min\");}else{element.textContent = ' ';}"
      ],
      "text/plain": [
       "<IPython.core.display.Javascript object>"
      ]
     },
     "metadata": {},
     "output_type": "display_data"
    },
    {
     "data": {
      "application/javascript": [
       "if (typeof Jupyter !== \"undefined\") {require([\"nbextensions/vpython_libraries/glow.min\"], function(){console.log(\"GLOW LOADED\");});}else{element.textContent = ' ';}"
      ],
      "text/plain": [
       "<IPython.core.display.Javascript object>"
      ]
     },
     "metadata": {},
     "output_type": "display_data"
    },
    {
     "data": {
      "application/javascript": [
       "if (typeof Jupyter !== \"undefined\") {require([\"nbextensions/vpython_libraries/glowcomm\"], function(){console.log(\"GLOWCOMM LOADED\");});}else{element.textContent = ' ';}"
      ],
      "text/plain": [
       "<IPython.core.display.Javascript object>"
      ]
     },
     "metadata": {},
     "output_type": "display_data"
    },
    {
     "data": {
      "application/javascript": [
       "if (typeof Jupyter !== \"undefined\") {require([\"nbextensions/vpython_libraries/jquery-ui.custom.min\"], function(){console.log(\"JQUERY LOADED\");});}else{element.textContent = ' ';}"
      ],
      "text/plain": [
       "<IPython.core.display.Javascript object>"
      ]
     },
     "metadata": {},
     "output_type": "display_data"
    },
    {
     "data": {
      "text/plain": [
       "{'1': [0, 32],\n",
       " '2': [0, 32],\n",
       " '3': [0, 32],\n",
       " '4': [0, 32],\n",
       " '5': [0, 32],\n",
       " '6': [0, 32],\n",
       " '7': [0, 32],\n",
       " '8': [0, 32],\n",
       " '9': [0, 32],\n",
       " '10': [0, 32],\n",
       " '11': [0, 32],\n",
       " '12': [0, 32],\n",
       " '13': [0, 32],\n",
       " '14': [0, 32],\n",
       " '15': [0, 32],\n",
       " '16': [0, 32],\n",
       " '17': [0, 32],\n",
       " '18': [0, 32],\n",
       " '19': [0, 32],\n",
       " '20': [0, 32],\n",
       " '21': [0, 32],\n",
       " '22': [0, 32],\n",
       " '23': [30, 2.8020834440628864e-25],\n",
       " '24': [30, 2.8020834440628864e-25],\n",
       " '25': [20, 1.3594733616933084e-16],\n",
       " '26': [20, 1.3594733616933084e-16],\n",
       " '27': [10, 6.595691591803385e-08],\n",
       " '28': [10, 6.595691591803385e-08],\n",
       " '29': [0, 32],\n",
       " '30': [30, 2.8020834440628864e-25],\n",
       " '31': [30, 2.8020834440628864e-25],\n",
       " '32': [20, 1.3594733616933084e-16],\n",
       " '33': [20, 1.3594733616933084e-16],\n",
       " '34': [10, 6.595691591803385e-08],\n",
       " '35': [10, 6.595691591803385e-08],\n",
       " '36': [0, 32],\n",
       " '37': [0, 32],\n",
       " '38': [0, 32],\n",
       " '39': [0, 32],\n",
       " '40': [0, 32],\n",
       " '41': [0, 32],\n",
       " '42': [0, 32],\n",
       " '43': [0, 32],\n",
       " '44': [0, 32],\n",
       " '45': [0, 32],\n",
       " '46': [0, 32],\n",
       " '47': [0, 32],\n",
       " '48': [0, 32],\n",
       " '49': [0, 32]}"
      ]
     },
     "execution_count": 1,
     "metadata": {},
     "output_type": "execute_result"
    }
   ],
   "source": [
    "#length units in mm\n",
    "import math\n",
    "from vpython import*\n",
    "def check(x, intensity_0, alpha, theta): #Theta is the angle of the shape; x is the number of led/phototransistor; intensity_0 is led light w/mm^2; alpha is apsorption constant mm^-1\n",
    "    \"\"\"\n",
    "    Input: Number of photodiodes, intenisty of light from led, absorption constant(opacity of sample)\n",
    "    Output:Visual simulation and values for the thickness of sample light traveled through and the intensity of light\n",
    "    \"\"\"\n",
    "    box1=box(pos=vec(0,-10,0),axis=vec(1,0,0),length=10,height=10,width=30,up=vec(0,1,0))#Creates the lowest stair\n",
    "    zthickness_box1=box1.width                \n",
    "    xthickness_box1=box1.length\n",
    "    ythickness_box1=box1.height\n",
    "    box2=box(pos=vec(0,0,0),axis=vec(1,0,0),length=10,height=10,width=20,up=vec(0,1,0))#Creates middle stair\n",
    "    zthickness_box2=box2.width\n",
    "    xthickness_box2=box2.length\n",
    "    ythickness_box2=box2.height\n",
    "    box3=box(pos=vec(0,10,0),axis=vec(1,0,0),length=10,height=10,width=10,up=vec(0,1,0))#Creates top stair\n",
    "    zthickness_box3=box3.width\n",
    "    xthickness_box3=box3.length\n",
    "    ythickness_box3=box3.height\n",
    "    \n",
    "    box1.rotate(angle=radians(theta),axis=vec(0,1,0),origin=box1.pos)\n",
    "    box2.rotate(angle=radians(theta),axis=vec(0,1,0),origin=box2.pos)\n",
    "    box3.rotate(angle=radians(theta),axis=vec(0,1,0),origin=box3.pos)\n",
    "    \n",
    "    photon_dict=dict()\n",
    "    photon_number=0\n",
    "    for x_point in range(-x//2,x//2,5): #repeats to create a grid of points\n",
    "        for y_point in range(-x//2,x//2,5):\n",
    "            photon_number+=1\n",
    "            led=sphere(pos=vec(x_point,y_point,-200), radius=2.5, color=color.white) #represents the led\n",
    "            photodiode=sphere(pos=vec(x_point,y_point,200), radius=2.5, color=color.blue) #represents the photodiode\n",
    "            light=sphere(pos=led.pos, radius=0.01, color=color.yellow, make_trail=True) #ray of light\n",
    "            v0=20  #velocity of the ray of light\n",
    "            aim=vec(0,0,200) \n",
    "            light.v=v0*norm(aim) #direction of the ray of light\n",
    "            t=0\n",
    "            dt=0.05 #time change\n",
    "            path_thickness=0\n",
    "            intensity=intensity_0\n",
    "            while light.pos.z<=photodiode.pos.z: # checks if light ray is passing through the lowest block\n",
    "                if light.pos.z > (box1.pos.z-(zthickness_box1/2)):\n",
    "                    if light.pos.z <= (box1.pos.z+(zthickness_box1/2)):\n",
    "                        if light.pos.x > (box1.pos.x-(xthickness_box1/2)):\n",
    "                            if light.pos.x <= (box1.pos.x+(xthickness_box1/2)):\n",
    "                                if light.pos.y > (box1.pos.y-(ythickness_box1/2)):\n",
    "                                    if light.pos.y <= (box1.pos.y+(ythickness_box1/2)):\n",
    "                                        path_thickness+=1\n",
    "                                        intensity=intensity_0*exp(-alpha*path_thickness) #calculates intensity\n",
    "                if light.pos.z > (box2.pos.z-(zthickness_box2/2)): #checks if the light ray passes through the middle block\n",
    "                    if light.pos.z <= (box2.pos.z+(zthickness_box2/2)):\n",
    "                        if light.pos.x > (box2.pos.x-(xthickness_box2/2)):\n",
    "                            if light.pos.x <= (box2.pos.x+(xthickness_box2/2)):\n",
    "                                if light.pos.y > (box2.pos.y-(ythickness_box2/2)):\n",
    "                                    if light.pos.y <= (box2.pos.y+(ythickness_box2/2)):\n",
    "                                        path_thickness+=1\n",
    "                                        intensity=intensity_0*exp(-alpha*path_thickness) #calculates intensity\n",
    "                if light.pos.z > (box3.pos.z-(zthickness_box3/2)): #checks if light passes through top block\n",
    "                    if light.pos.z <= (box3.pos.z+(zthickness_box3/2)):\n",
    "                        if light.pos.x > (box3.pos.x-(xthickness_box3/2)):\n",
    "                            if light.pos.x <= (box3.pos.x+(xthickness_box3/2)):\n",
    "                                if light.pos.y > (box3.pos.y-(ythickness_box3/2)):\n",
    "                                    if light.pos.y <= (box3.pos.y+(ythickness_box3/2)):\n",
    "                                        path_thickness+=1\n",
    "                                        intensity=intensity_0*exp(-alpha*path_thickness) #calculates intensity                    \n",
    "                rate(250)\n",
    "                light.pos=light.pos+light.v*dt #moves the light ray\n",
    "                t=t+dt\n",
    "            photon_list=[path_thickness,intensity] #creates a list with path_thickness, intensity\n",
    "            photon_dict[str(photon_number)]=photon_list #stores lists in dictionary for each led\n",
    "    return photon_dict\n",
    "check(35,32,2,0)\n",
    "#length of grid in mm; initial intensity of LED in W/mm^2; absorption coefficient in mm^-1; angle of sample in degrees"
   ]
  },
  {
   "cell_type": "code",
   "execution_count": 1,
   "metadata": {},
   "outputs": [
    {
     "data": {
      "text/html": [
       "<div id=\"glowscript\" class=\"glowscript\"></div>"
      ],
      "text/plain": [
       "<IPython.core.display.HTML object>"
      ]
     },
     "metadata": {},
     "output_type": "display_data"
    },
    {
     "data": {
      "application/javascript": [
       "if (typeof Jupyter !== \"undefined\") { window.__context = { glowscript_container: $(\"#glowscript\").removeAttr(\"id\")};}else{ element.textContent = ' ';}"
      ],
      "text/plain": [
       "<IPython.core.display.Javascript object>"
      ]
     },
     "metadata": {},
     "output_type": "display_data"
    },
    {
     "data": {
      "application/javascript": [
       "if (typeof Jupyter !== \"undefined\") {require.undef(\"nbextensions/vpython_libraries/glow.min\");}else{element.textContent = ' ';}"
      ],
      "text/plain": [
       "<IPython.core.display.Javascript object>"
      ]
     },
     "metadata": {},
     "output_type": "display_data"
    },
    {
     "data": {
      "application/javascript": [
       "if (typeof Jupyter !== \"undefined\") {require.undef(\"nbextensions/vpython_libraries/glowcomm\");}else{element.textContent = ' ';}"
      ],
      "text/plain": [
       "<IPython.core.display.Javascript object>"
      ]
     },
     "metadata": {},
     "output_type": "display_data"
    },
    {
     "data": {
      "application/javascript": [
       "if (typeof Jupyter !== \"undefined\") {require.undef(\"nbextensions/vpython_libraries/jquery-ui.custom.min\");}else{element.textContent = ' ';}"
      ],
      "text/plain": [
       "<IPython.core.display.Javascript object>"
      ]
     },
     "metadata": {},
     "output_type": "display_data"
    },
    {
     "data": {
      "application/javascript": [
       "if (typeof Jupyter !== \"undefined\") {require([\"nbextensions/vpython_libraries/glow.min\"], function(){console.log(\"GLOW LOADED\");});}else{element.textContent = ' ';}"
      ],
      "text/plain": [
       "<IPython.core.display.Javascript object>"
      ]
     },
     "metadata": {},
     "output_type": "display_data"
    },
    {
     "data": {
      "application/javascript": [
       "if (typeof Jupyter !== \"undefined\") {require([\"nbextensions/vpython_libraries/glowcomm\"], function(){console.log(\"GLOWCOMM LOADED\");});}else{element.textContent = ' ';}"
      ],
      "text/plain": [
       "<IPython.core.display.Javascript object>"
      ]
     },
     "metadata": {},
     "output_type": "display_data"
    },
    {
     "data": {
      "application/javascript": [
       "if (typeof Jupyter !== \"undefined\") {require([\"nbextensions/vpython_libraries/jquery-ui.custom.min\"], function(){console.log(\"JQUERY LOADED\");});}else{element.textContent = ' ';}"
      ],
      "text/plain": [
       "<IPython.core.display.Javascript object>"
      ]
     },
     "metadata": {},
     "output_type": "display_data"
    },
    {
     "ename": "AttributeError",
     "evalue": "'NoneType' object has no attribute 'pos'",
     "output_type": "error",
     "traceback": [
      "\u001b[0;31m---------------------------------------------------------------------------\u001b[0m",
      "\u001b[0;31mAttributeError\u001b[0m                            Traceback (most recent call last)",
      "\u001b[0;32m<ipython-input-1-f59086c0ce35>\u001b[0m in \u001b[0;36m<module>\u001b[0;34m\u001b[0m\n\u001b[1;32m     61\u001b[0m             \u001b[0mphoton_dict\u001b[0m\u001b[0;34m[\u001b[0m\u001b[0mstr\u001b[0m\u001b[0;34m(\u001b[0m\u001b[0mphoton_number\u001b[0m\u001b[0;34m)\u001b[0m\u001b[0;34m]\u001b[0m\u001b[0;34m=\u001b[0m\u001b[0mphoton_list\u001b[0m \u001b[0;31m#stores lists in dictionary for each led\u001b[0m\u001b[0;34m\u001b[0m\u001b[0;34m\u001b[0m\u001b[0m\n\u001b[1;32m     62\u001b[0m     \u001b[0;32mreturn\u001b[0m \u001b[0mphoton_dict\u001b[0m\u001b[0;34m\u001b[0m\u001b[0;34m\u001b[0m\u001b[0m\n\u001b[0;32m---> 63\u001b[0;31m \u001b[0mcheck\u001b[0m\u001b[0;34m(\u001b[0m\u001b[0;36m35\u001b[0m\u001b[0;34m,\u001b[0m\u001b[0;36m32\u001b[0m\u001b[0;34m,\u001b[0m\u001b[0;36m2\u001b[0m\u001b[0;34m,\u001b[0m\u001b[0;36m90\u001b[0m\u001b[0;34m)\u001b[0m\u001b[0;34m\u001b[0m\u001b[0;34m\u001b[0m\u001b[0m\n\u001b[0m\u001b[1;32m     64\u001b[0m \u001b[0;31m#length of grid in mm; initial intensity of LED in W/mm^2; absorption coefficient in mm^-1; angle of sample in degrees\u001b[0m\u001b[0;34m\u001b[0m\u001b[0;34m\u001b[0m\u001b[0;34m\u001b[0m\u001b[0m\n",
      "\u001b[0;32m<ipython-input-1-f59086c0ce35>\u001b[0m in \u001b[0;36mcheck\u001b[0;34m(x, intensity_0, alpha, theta)\u001b[0m\n\u001b[1;32m     31\u001b[0m             \u001b[0mintensity\u001b[0m\u001b[0;34m=\u001b[0m\u001b[0mintensity_0\u001b[0m\u001b[0;34m\u001b[0m\u001b[0;34m\u001b[0m\u001b[0m\n\u001b[1;32m     32\u001b[0m             \u001b[0;32mwhile\u001b[0m \u001b[0mlight\u001b[0m\u001b[0;34m.\u001b[0m\u001b[0mpos\u001b[0m\u001b[0;34m.\u001b[0m\u001b[0mz\u001b[0m\u001b[0;34m<=\u001b[0m\u001b[0mphotodiode\u001b[0m\u001b[0;34m.\u001b[0m\u001b[0mpos\u001b[0m\u001b[0;34m.\u001b[0m\u001b[0mz\u001b[0m\u001b[0;34m:\u001b[0m \u001b[0;31m# checks if light ray is passing through the lowest block\u001b[0m\u001b[0;34m\u001b[0m\u001b[0;34m\u001b[0m\u001b[0m\n\u001b[0;32m---> 33\u001b[0;31m                 \u001b[0;32mif\u001b[0m \u001b[0mlight\u001b[0m\u001b[0;34m.\u001b[0m\u001b[0mpos\u001b[0m\u001b[0;34m.\u001b[0m\u001b[0mz\u001b[0m \u001b[0;34m>\u001b[0m \u001b[0;34m(\u001b[0m\u001b[0mrotated_box1\u001b[0m\u001b[0;34m.\u001b[0m\u001b[0mpos\u001b[0m\u001b[0;34m.\u001b[0m\u001b[0mz\u001b[0m\u001b[0;34m-\u001b[0m\u001b[0;34m(\u001b[0m\u001b[0mrotated_box1\u001b[0m\u001b[0;34m.\u001b[0m\u001b[0mwidth\u001b[0m\u001b[0;34m/\u001b[0m\u001b[0;36m2\u001b[0m\u001b[0;34m)\u001b[0m\u001b[0;34m)\u001b[0m\u001b[0;34m:\u001b[0m\u001b[0;34m\u001b[0m\u001b[0;34m\u001b[0m\u001b[0m\n\u001b[0m\u001b[1;32m     34\u001b[0m                     \u001b[0;32mif\u001b[0m \u001b[0mlight\u001b[0m\u001b[0;34m.\u001b[0m\u001b[0mpos\u001b[0m\u001b[0;34m.\u001b[0m\u001b[0mz\u001b[0m \u001b[0;34m<=\u001b[0m \u001b[0;34m(\u001b[0m\u001b[0mrotated_box1\u001b[0m\u001b[0;34m.\u001b[0m\u001b[0mpos\u001b[0m\u001b[0;34m.\u001b[0m\u001b[0mz\u001b[0m\u001b[0;34m+\u001b[0m\u001b[0;34m(\u001b[0m\u001b[0mrotated_box1\u001b[0m\u001b[0;34m.\u001b[0m\u001b[0mwidth\u001b[0m\u001b[0;34m/\u001b[0m\u001b[0;36m2\u001b[0m\u001b[0;34m)\u001b[0m\u001b[0;34m)\u001b[0m\u001b[0;34m:\u001b[0m\u001b[0;34m\u001b[0m\u001b[0;34m\u001b[0m\u001b[0m\n\u001b[1;32m     35\u001b[0m                         \u001b[0;32mif\u001b[0m \u001b[0mlight\u001b[0m\u001b[0;34m.\u001b[0m\u001b[0mpos\u001b[0m\u001b[0;34m.\u001b[0m\u001b[0mx\u001b[0m \u001b[0;34m>\u001b[0m \u001b[0;34m(\u001b[0m\u001b[0mrotated_box1\u001b[0m\u001b[0;34m.\u001b[0m\u001b[0mpos\u001b[0m\u001b[0;34m.\u001b[0m\u001b[0mx\u001b[0m\u001b[0;34m-\u001b[0m\u001b[0;34m(\u001b[0m\u001b[0mrotated_box1\u001b[0m\u001b[0;34m.\u001b[0m\u001b[0mlength\u001b[0m\u001b[0;34m/\u001b[0m\u001b[0;36m2\u001b[0m\u001b[0;34m)\u001b[0m\u001b[0;34m)\u001b[0m\u001b[0;34m:\u001b[0m\u001b[0;34m\u001b[0m\u001b[0;34m\u001b[0m\u001b[0m\n",
      "\u001b[0;31mAttributeError\u001b[0m: 'NoneType' object has no attribute 'pos'"
     ]
    }
   ],
   "source": [
    "#length units in mm\n",
    "import math\n",
    "from vpython import*\n",
    "def check(x, intensity_0, alpha, theta): #Theta is the angle of the shape; x is the number of led/phototransistor; intensity_0 is led light w/mm^2; alpha is apsorption constant mm^-1\n",
    "    \"\"\"\n",
    "    Input: Number of photodiodes, intenisty of light from led, absorption constant(opacity of sample)\n",
    "    Output:Visual simulation and values for the thickness of sample light traveled through and the intensity of light\n",
    "    \"\"\"\n",
    "    box1=box(pos=vec(0,-10,0),axis=vec(math.cos(theta),0,math.sin(theta)),length=10*math.cos(theta),height=10,width=30*math.cos(theta),up=vec(0,1,0))#Creates the lowest stair\n",
    "    box2=box(pos=vec(0,0,0),axis=vec(math.cos(theta),0,math.sin(theta)),length=10*math.cos(theta),height=10,width=20*math.cos(theta),up=vec(0,1,0))#Creates middle stair\n",
    "    box3=box(pos=vec(0,10,0),axis=vec(math.cos(theta),0,math.sin(theta)),length=10*math.cos(theta),height=10,width=10*math.cos(theta),up=vec(0,1,0))#Creates top stair\n",
    "\n",
    "    rotated_box1=box1.rotate(angle=radians(theta),axis=vec(0,1,0),origin=box1.pos)\n",
    "    rotated_box2=box2.rotate(angle=radians(theta),axis=vec(0,1,0),origin=box2.pos)\n",
    "    rotated_box3=box3.rotate(angle=radians(theta),axis=vec(0,1,0),origin=box3.pos)\n",
    "        \n",
    "    photon_dict=dict()\n",
    "    photon_number=0\n",
    "    for x_point in range(-x//2,x//2,5): #repeats to create a grid of points\n",
    "        for y_point in range(-x//2,x//2,5):\n",
    "            photon_number+=1\n",
    "            led=sphere(pos=vec(x_point,y_point,-200), radius=2.5, color=color.white) #represents the led\n",
    "            photodiode=sphere(pos=vec(x_point,y_point,200), radius=2.5, color=color.blue) #represents the photodiode\n",
    "            light=sphere(pos=led.pos, radius=0.01, color=color.yellow, make_trail=True) #ray of light\n",
    "            v0=20  #velocity of the ray of light\n",
    "            aim=vec(0,0,200) \n",
    "            light.v=v0*norm(aim) #direction of the ray of light\n",
    "            t=0\n",
    "            dt=0.05 #time change\n",
    "            path_thickness=0\n",
    "            intensity=intensity_0\n",
    "            while light.pos.z<=photodiode.pos.z: # checks if light ray is passing through the lowest block\n",
    "                if light.pos.z > (rotated_box1.pos.z-(rotated_box1.width/2)):\n",
    "                    if light.pos.z <= (rotated_box1.pos.z+(rotated_box1.width/2)):\n",
    "                        if light.pos.x > (rotated_box1.pos.x-(rotated_box1.length/2)):\n",
    "                            if light.pos.x <= (rotated_box1.pos.x+(rotated_box1.length/2)):\n",
    "                                if light.pos.y > (rotated_box1.pos.y-(rotated_box1.height/2)):\n",
    "                                    if light.pos.y <= (rotated_box1.pos.y+(rotated_box1.height/2)):\n",
    "                                        path_thickness+=1\n",
    "                                        intensity=intensity_0*exp(-alpha*path_thickness) #calculates intensity\n",
    "                if light.pos.z > (rotated_box2.pos.z-(rotated_box2.width/2)): #checks if the light ray passes through the middle block\n",
    "                    if light.pos.z <= (rotated_box2.pos.z+(rotated_box2.width/2)):\n",
    "                        if light.pos.x > (rotated_box2.pos.x-(rotated_box2.length/2)):\n",
    "                            if light.pos.x <= (rotated_box2.pos.x+(rotated_box2.length/2)):\n",
    "                                if light.pos.y > (rotated_box2.pos.y-(rotated_box2.height/2)):\n",
    "                                    if light.pos.y <= (rotated_box2.pos.y+(rotated_box2.height/2)):\n",
    "                                        path_thickness+=1\n",
    "                                        intensity=intensity_0*exp(-alpha*path_thickness) #calculates intensity\n",
    "                if light.pos.z > (rotated_box3.pos.z-(rotated_box3.width/2)): #checks if light passes through top block\n",
    "                    if light.pos.z <= (rotated_box3.pos.z+(rotated_box3.width/2)):\n",
    "                        if light.pos.x > (rotated_box3.pos.x-(rotated_box3.length/2)):\n",
    "                            if light.pos.x <= (rotated_box3.pos.x+(rotated_box3.length/2)):\n",
    "                                if light.pos.y > (rotated_box3.pos.y-(rotated_box3.height/2)):\n",
    "                                    if light.pos.y <= (rotated_box3.pos.y+(rotated_box3.height/2)):\n",
    "                                        path_thickness+=1\n",
    "                                        intensity=intensity_0*exp(-alpha*path_thickness) #calculates intensity                    \n",
    "                rate(250)\n",
    "                light.pos=light.pos+light.v*dt #moves the light ray\n",
    "                t=t+dt\n",
    "            photon_list=[path_thickness,intensity] #creates a list with path_thickness, intensity\n",
    "            photon_dict[str(photon_number)]=photon_list #stores lists in dictionary for each led\n",
    "    return photon_dict\n",
    "check(35,32,2,90)\n",
    "#length of grid in mm; initial intensity of LED in W/mm^2; absorption coefficient in mm^-1; angle of sample in degrees"
   ]
  },
  {
   "cell_type": "code",
   "execution_count": 1,
   "metadata": {},
   "outputs": [
    {
     "data": {
      "text/html": [
       "<div id=\"glowscript\" class=\"glowscript\"></div>"
      ],
      "text/plain": [
       "<IPython.core.display.HTML object>"
      ]
     },
     "metadata": {},
     "output_type": "display_data"
    },
    {
     "data": {
      "application/javascript": [
       "if (typeof Jupyter !== \"undefined\") { window.__context = { glowscript_container: $(\"#glowscript\").removeAttr(\"id\")};}else{ element.textContent = ' ';}"
      ],
      "text/plain": [
       "<IPython.core.display.Javascript object>"
      ]
     },
     "metadata": {},
     "output_type": "display_data"
    },
    {
     "data": {
      "application/javascript": [
       "if (typeof Jupyter !== \"undefined\") {require.undef(\"nbextensions/vpython_libraries/glow.min\");}else{element.textContent = ' ';}"
      ],
      "text/plain": [
       "<IPython.core.display.Javascript object>"
      ]
     },
     "metadata": {},
     "output_type": "display_data"
    },
    {
     "data": {
      "application/javascript": [
       "if (typeof Jupyter !== \"undefined\") {require.undef(\"nbextensions/vpython_libraries/glowcomm\");}else{element.textContent = ' ';}"
      ],
      "text/plain": [
       "<IPython.core.display.Javascript object>"
      ]
     },
     "metadata": {},
     "output_type": "display_data"
    },
    {
     "data": {
      "application/javascript": [
       "if (typeof Jupyter !== \"undefined\") {require.undef(\"nbextensions/vpython_libraries/jquery-ui.custom.min\");}else{element.textContent = ' ';}"
      ],
      "text/plain": [
       "<IPython.core.display.Javascript object>"
      ]
     },
     "metadata": {},
     "output_type": "display_data"
    },
    {
     "data": {
      "application/javascript": [
       "if (typeof Jupyter !== \"undefined\") {require([\"nbextensions/vpython_libraries/glow.min\"], function(){console.log(\"GLOW LOADED\");});}else{element.textContent = ' ';}"
      ],
      "text/plain": [
       "<IPython.core.display.Javascript object>"
      ]
     },
     "metadata": {},
     "output_type": "display_data"
    },
    {
     "data": {
      "application/javascript": [
       "if (typeof Jupyter !== \"undefined\") {require([\"nbextensions/vpython_libraries/glowcomm\"], function(){console.log(\"GLOWCOMM LOADED\");});}else{element.textContent = ' ';}"
      ],
      "text/plain": [
       "<IPython.core.display.Javascript object>"
      ]
     },
     "metadata": {},
     "output_type": "display_data"
    },
    {
     "data": {
      "application/javascript": [
       "if (typeof Jupyter !== \"undefined\") {require([\"nbextensions/vpython_libraries/jquery-ui.custom.min\"], function(){console.log(\"JQUERY LOADED\");});}else{element.textContent = ' ';}"
      ],
      "text/plain": [
       "<IPython.core.display.Javascript object>"
      ]
     },
     "metadata": {},
     "output_type": "display_data"
    },
    {
     "data": {
      "text/plain": [
       "{'1': [0, 32],\n",
       " '2': [0, 32],\n",
       " '3': [0, 32],\n",
       " '4': [0, 32],\n",
       " '5': [0, 32],\n",
       " '6': [0, 32],\n",
       " '7': [0, 32],\n",
       " '8': [0, 32],\n",
       " '9': [0, 32],\n",
       " '10': [0, 32],\n",
       " '11': [0, 32],\n",
       " '12': [0, 32],\n",
       " '13': [0, 32],\n",
       " '14': [0, 32],\n",
       " '15': [0, 32],\n",
       " '16': [0, 32],\n",
       " '17': [0, 32],\n",
       " '18': [0, 32],\n",
       " '19': [0, 32],\n",
       " '20': [0, 32],\n",
       " '21': [0, 32],\n",
       " '22': [0, 32],\n",
       " '23': [15, 2.994439350028856e-12],\n",
       " '24': [15, 2.994439350028856e-12],\n",
       " '25': [0, 32],\n",
       " '26': [0, 32],\n",
       " '27': [0, 32],\n",
       " '28': [0, 32],\n",
       " '29': [0, 32],\n",
       " '30': [15, 2.994439350028856e-12],\n",
       " '31': [15, 2.994439350028856e-12],\n",
       " '32': [0, 32],\n",
       " '33': [0, 32],\n",
       " '34': [0, 32],\n",
       " '35': [0, 32],\n",
       " '36': [0, 32],\n",
       " '37': [0, 32],\n",
       " '38': [0, 32],\n",
       " '39': [0, 32],\n",
       " '40': [0, 32],\n",
       " '41': [0, 32],\n",
       " '42': [0, 32],\n",
       " '43': [0, 32],\n",
       " '44': [0, 32],\n",
       " '45': [0, 32],\n",
       " '46': [0, 32],\n",
       " '47': [0, 32],\n",
       " '48': [0, 32],\n",
       " '49': [0, 32]}"
      ]
     },
     "execution_count": 1,
     "metadata": {},
     "output_type": "execute_result"
    }
   ],
   "source": [
    "#length units in mm\n",
    "import math\n",
    "from vpython import*\n",
    "def check(x, intensity_0, alpha, theta): #Theta is the angle of the shape; x is the number of led/phototransistor; intensity_0 is led light w/mm^2; alpha is apsorption constant mm^-1\n",
    "    \"\"\"\n",
    "    Input: Number of photodiodes, intenisty of light from led, absorption constant(opacity of sample)\n",
    "    Output:Visual simulation and values for the thickness of sample light traveled through and the intensity of light\n",
    "    \"\"\"\n",
    "    box1=box(pos=vec(0,-10,0),axis=vec(1,0,0),length=10,height=10,width=30,up=vec(0,1,0))#Creates the lowest stair\n",
    "    v1_box1=[[box1.width/2],\n",
    "            [0]]\n",
    "    v2_box1=[[0],\n",
    "            [length/2]]\n",
    "    transform_matrix=[[math.cos(theta),math.sin(theta)],\n",
    "              [-math.sin(theta),math.cos(theta)]]\n",
    "    rotated_coords_v1=transform_matrix*v1_box1\n",
    "    zthickness_box1=box1.width*math.cos(theta)                \n",
    "    xthickness_box1=box1.length*math.sin(theta)\n",
    "    ythickness_box1=box1.height\n",
    "    box2=box(pos=vec(0,0,0),axis=vec(1,0,0),length=10,height=10,width=20,up=vec(0,1,0))#Creates middle stair\n",
    "    zthickness_box2=box2.width*math.cos(theta)\n",
    "    xthickness_box2=box2.length*(-math.sin(theta))\n",
    "    ythickness_box2=box2.height\n",
    "    box3=box(pos=vec(0,10,0),axis=vec(1,0,0),length=10,height=10,width=10,up=vec(0,1,0))#Creates top stair\n",
    "    zthickness_box3=box3.width*math.cos(theta)\n",
    "    xthickness_box3=box3.length*(-math.sin(theta))\n",
    "    ythickness_box3=box3.height\n",
    "    \n",
    "    box1.rotate(angle=radians(theta),axis=vec(0,1,0),origin=box1.pos)\n",
    "    box2.rotate(angle=radians(theta),axis=vec(0,1,0),origin=box2.pos)\n",
    "    box3.rotate(angle=radians(theta),axis=vec(0,1,0),origin=box3.pos)\n",
    "    \n",
    "    photon_dict=dict()\n",
    "    photon_number=0\n",
    "    for x_point in range(-x//2,x//2,5): #repeats to create a grid of points\n",
    "        for y_point in range(-x//2,x//2,5):\n",
    "            photon_number+=1\n",
    "            led=sphere(pos=vec(x_point,y_point,-200), radius=2.5, color=color.white) #represents the led\n",
    "            photodiode=sphere(pos=vec(x_point,y_point,200), radius=2.5, color=color.blue) #represents the photodiode\n",
    "            light=sphere(pos=led.pos, radius=0.01, color=color.yellow, make_trail=True) #ray of light\n",
    "            v0=20  #velocity of the ray of light\n",
    "            aim=vec(0,0,200) \n",
    "            light.v=v0*norm(aim) #direction of the ray of light\n",
    "            t=0\n",
    "            dt=0.05 #time change\n",
    "            path_thickness=0\n",
    "            intensity=intensity_0\n",
    "            while light.pos.z<=photodiode.pos.z: # checks if light ray is passing through the lowest block\n",
    "                if light.pos.z > (box1.pos.z-(zthickness_box1/2)):\n",
    "                    if light.pos.z <= (box1.pos.z+(zthickness_box1/2)):\n",
    "                        if light.pos.x > (box1.pos.x-(xthickness_box1/2)):\n",
    "                            if light.pos.x <= (box1.pos.x+(xthickness_box1/2)):\n",
    "                                if light.pos.y > (box1.pos.y-(ythickness_box1/2)):\n",
    "                                    if light.pos.y <= (box1.pos.y+(ythickness_box1/2)):\n",
    "                                        path_thickness+=1\n",
    "                                        intensity=intensity_0*exp(-alpha*path_thickness) #calculates intensity\n",
    "                if light.pos.z > (box2.pos.z-(zthickness_box2/2)): #checks if the light ray passes through the middle block\n",
    "                    if light.pos.z <= (box2.pos.z+(zthickness_box2/2)):\n",
    "                        if light.pos.x > (box2.pos.x-(xthickness_box2/2)):\n",
    "                            if light.pos.x <= (box2.pos.x+(xthickness_box2/2)):\n",
    "                                if light.pos.y > (box2.pos.y-(ythickness_box2/2)):\n",
    "                                    if light.pos.y <= (box2.pos.y+(ythickness_box2/2)):\n",
    "                                        path_thickness+=1\n",
    "                                        intensity=intensity_0*exp(-alpha*path_thickness) #calculates intensity\n",
    "                if light.pos.z > (box3.pos.z-(zthickness_box3/2)): #checks if light passes through top block\n",
    "                    if light.pos.z <= (box3.pos.z+(zthickness_box3/2)):\n",
    "                        if light.pos.x > (box3.pos.x-(xthickness_box3/2)):\n",
    "                            if light.pos.x <= (box3.pos.x+(xthickness_box3/2)):\n",
    "                                if light.pos.y > (box3.pos.y-(ythickness_box3/2)):\n",
    "                                    if light.pos.y <= (box3.pos.y+(ythickness_box3/2)):\n",
    "                                        path_thickness+=1\n",
    "                                        intensity=intensity_0*exp(-alpha*path_thickness) #calculates intensity                    \n",
    "                rate(250)\n",
    "                light.pos=light.pos+light.v*dt #moves the light ray\n",
    "                t=t+dt\n",
    "            photon_list=[path_thickness,intensity] #creates a list with path_thickness, intensity\n",
    "            photon_dict[str(photon_number)]=photon_list #stores lists in dictionary for each led\n",
    "    return photon_dict\n",
    "check(35,32,2,45)"
   ]
  },
  {
   "cell_type": "code",
   "execution_count": null,
   "metadata": {},
   "outputs": [],
   "source": [
    "#length units in mm\n",
    "import math\n",
    "from vpython import*\n",
    "def check(x, intensity_0, alpha, theta): #Theta is the angle of the shape; x is the number of led/phototransistor; intensity_0 is led light w/mm^2; alpha is apsorption constant mm^-1\n",
    "    \"\"\"\n",
    "    Input: Number of photodiodes, intenisty of light from led, absorption constant(opacity of sample)\n",
    "    Output:Visual simulation and values for the thickness of sample light traveled through and the intensity of light\n",
    "    \"\"\"\n",
    "    box1=box(pos=vec(0,-10,0),axis=vec(1,0,0),length=10,height=10,width=30,up=vec(0,1,0))#Creates the lowest stair\n",
    "    zthickness_box1=(box1.width/2)*(math.cos(theta)+math.sin(theta))              \n",
    "    xthickness_box1=(box1.length/2)*(math.cos(theta)+math.sin(theta))\n",
    "    ythickness_box1=box1.height/2\n",
    "    box2=box(pos=vec(0,0,0),axis=vec(1,0,0),length=10,height=10,width=20,up=vec(0,1,0))#Creates middle stair\n",
    "    zthickness_box2=(box2.width/2)\n",
    "    xthickness_box2=box2.length/2\n",
    "    ythickness_box2=box2.height/2\n",
    "    box3=box(pos=vec(0,10,0),axis=vec(1,0,0),length=10,height=10,width=10,up=vec(0,1,0))#Creates top stair\n",
    "    zthickness_box3=box3.width/2\n",
    "    xthickness_box3=box3.length/2\n",
    "    ythickness_box3=box3.height/2\n",
    "    \n",
    "    box1.rotate(angle=radians(theta),axis=vec(0,1,0),origin=box1.pos)\n",
    "    box2.rotate(angle=radians(theta),axis=vec(0,1,0),origin=box2.pos)\n",
    "    box3.rotate(angle=radians(theta),axis=vec(0,1,0),origin=box3.pos)\n",
    "    \n",
    "    photon_dict=dict()\n",
    "    photon_number=0\n",
    "    for x_point in range(-x//2,x//2,5): #repeats to create a grid of points\n",
    "        for y_point in range(-x//2,x//2,5):\n",
    "            photon_number+=1\n",
    "            led=sphere(pos=vec(x_point,y_point,-200), radius=2.5, color=color.white) #represents the led\n",
    "            photodiode=sphere(pos=vec(x_point,y_point,200), radius=2.5, color=color.blue) #represents the photodiode\n",
    "            light=sphere(pos=led.pos, radius=0.01, color=color.yellow, make_trail=True) #ray of light\n",
    "            v0=20  #velocity of the ray of light\n",
    "            aim=vec(0,0,200) \n",
    "            light.v=v0*norm(aim) #direction of the ray of light\n",
    "            t=0\n",
    "            dt=0.05 #time change\n",
    "            path_thickness=0\n",
    "            intensity=intensity_0\n",
    "            while light.pos.z<=photodiode.pos.z: # checks if light ray is passing through the lowest block\n",
    "                if light.pos.z > (box1.pos.z-(zthickness_box1)):\n",
    "                    if light.pos.z <= (box1.pos.z+(zthickness_box1)):\n",
    "                        if light.pos.x > (box1.pos.x-(xthickness_box1)):\n",
    "                            if light.pos.x <= (box1.pos.x+(xthickness_box1)):\n",
    "                                if light.pos.y > (box1.pos.y-(ythickness_box1)):\n",
    "                                    if light.pos.y <= (box1.pos.y+(ythickness_box1)):\n",
    "                                        path_thickness+=1\n",
    "                                        intensity=intensity_0*exp(-alpha*path_thickness) #calculates intensity\n",
    "                if light.pos.z > (box2.pos.z-(zthickness_box2)): #checks if the light ray passes through the middle block\n",
    "                    if light.pos.z <= (box2.pos.z+(zthickness_box2)):\n",
    "                        if light.pos.x > (box2.pos.x-(xthickness_box2)):\n",
    "                            if light.pos.x <= (box2.pos.x+(xthickness_box2)):\n",
    "                                if light.pos.y > (box2.pos.y-(ythickness_box2)):\n",
    "                                    if light.pos.y <= (box2.pos.y+(ythickness_box2)):\n",
    "                                        path_thickness+=1\n",
    "                                        intensity=intensity_0*exp(-alpha*path_thickness) #calculates intensity\n",
    "                if light.pos.z > (box3.pos.z-(zthickness_box3)): #checks if light passes through top block\n",
    "                    if light.pos.z <= (box3.pos.z+(zthickness_box3)):\n",
    "                        if light.pos.x > (box3.pos.x-(xthickness_box3)):\n",
    "                            if light.pos.x <= (box3.pos.x+(xthickness_box3)):\n",
    "                                if light.pos.y > (box3.pos.y-(ythickness_box3)):\n",
    "                                    if light.pos.y <= (box3.pos.y+(ythickness_box3)):\n",
    "                                        path_thickness+=1\n",
    "                                        intensity=intensity_0*exp(-alpha*path_thickness) #calculates intensity                    \n",
    "                rate(250)\n",
    "                light.pos=light.pos+light.v*dt #moves the light ray\n",
    "                t=t+dt\n",
    "            photon_list=[path_thickness,intensity] #creates a list with path_thickness, intensity\n",
    "            photon_dict[str(photon_number)]=photon_list #stores lists in dictionary for each led\n",
    "    return photon_dict\n",
    "check(35,32,2,90)\n",
    "#length of grid in mm; initial intensity of LED in W/mm^2; absorption coefficient in mm^-1; angle of sample in degrees"
   ]
  }
 ],
 "metadata": {
  "kernelspec": {
   "display_name": "Python 3",
   "language": "python",
   "name": "python3"
  },
  "language_info": {
   "codemirror_mode": {
    "name": "ipython",
    "version": 3
   },
   "file_extension": ".py",
   "mimetype": "text/x-python",
   "name": "python",
   "nbconvert_exporter": "python",
   "pygments_lexer": "ipython3",
   "version": "3.8.5"
  }
 },
 "nbformat": 4,
 "nbformat_minor": 4
}
